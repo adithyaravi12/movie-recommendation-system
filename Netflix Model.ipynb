{
 "cells": [
  {
   "cell_type": "code",
   "execution_count": 1,
   "id": "245b3309",
   "metadata": {},
   "outputs": [],
   "source": [
    "import pandas as pd\n",
    "from sklearn.feature_extraction.text import TfidfVectorizer\n",
    "from sklearn.metrics.pairwise import linear_kernel"
   ]
  },
  {
   "cell_type": "code",
   "execution_count": 2,
   "id": "310e73a9",
   "metadata": {},
   "outputs": [],
   "source": [
    "data = pd.read_csv(\"encoded_netflix.csv\")"
   ]
  },
  {
   "cell_type": "code",
   "execution_count": 3,
   "id": "1582b598",
   "metadata": {},
   "outputs": [],
   "source": [
    "tfidf_vec = TfidfVectorizer(stop_words='english')\n",
    "tfidf_matrix = tfidf_vec.fit_transform(data['description'])"
   ]
  },
  {
   "cell_type": "code",
   "execution_count": 4,
   "id": "7bc49aa3",
   "metadata": {},
   "outputs": [],
   "source": [
    "cosin_similarity = linear_kernel(tfidf_matrix, tfidf_matrix)"
   ]
  },
  {
   "cell_type": "code",
   "execution_count": 9,
   "id": "bf5ef53a",
   "metadata": {},
   "outputs": [],
   "source": [
    "def recommendation(title):\n",
    "    index = data[data['title'] == title].index[0]\n",
    "    similarity_score = list(enumerate(cosin_similarity[index]))\n",
    "    similarity_score = sorted(similarity_score, key=lambda x: x[1], reverse=True)\n",
    "    similarity_score = similarity_score[1:4]\n",
    "    show_index = [i[0] for i in similarity_score]\n",
    "    rec = data['title'].iloc[show_index].values\n",
    "    return rec"
   ]
  },
  {
   "cell_type": "code",
   "execution_count": 13,
   "id": "86bc3504",
   "metadata": {},
   "outputs": [
    {
     "name": "stdout",
     "output_type": "stream",
     "text": [
      "Enter the movie/series name:\tRiverdale\n",
      "Recommendations for Riverdale:\n",
      "['Dancing Angels' 'Moesha' 'My Suicide']\n"
     ]
    }
   ],
   "source": [
    "title = input(\"Enter the movie/series name:\\t\")\n",
    "recommendations = recommendation(title)\n",
    "print(f'Recommendations for {title}:')\n",
    "print(recommendations)"
   ]
  }
 ],
 "metadata": {
  "kernelspec": {
   "display_name": "Python 3 (ipykernel)",
   "language": "python",
   "name": "python3"
  },
  "language_info": {
   "codemirror_mode": {
    "name": "ipython",
    "version": 3
   },
   "file_extension": ".py",
   "mimetype": "text/x-python",
   "name": "python",
   "nbconvert_exporter": "python",
   "pygments_lexer": "ipython3",
   "version": "3.9.7"
  }
 },
 "nbformat": 4,
 "nbformat_minor": 5
}
